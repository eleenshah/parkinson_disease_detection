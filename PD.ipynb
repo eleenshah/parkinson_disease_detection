{
  "nbformat": 4,
  "nbformat_minor": 0,
  "metadata": {
    "colab": {
      "provenance": []
    },
    "kernelspec": {
      "name": "python3",
      "display_name": "Python 3"
    },
    "language_info": {
      "name": "python"
    }
  },
  "cells": [
    {
      "cell_type": "code",
      "execution_count": null,
      "metadata": {
        "id": "5Nl-w1VhL04J"
      },
      "outputs": [],
      "source": [
        "import pandas as pd\n",
        "import numpy as np\n",
        "import matplotlib.pyplot as plt\n"
      ]
    },
    {
      "cell_type": "code",
      "source": [
        "from google.colab import drive\n",
        "drive.mount('/content/drive')"
      ],
      "metadata": {
        "colab": {
          "base_uri": "https://localhost:8080/"
        },
        "id": "tvDrS0UjMd_k",
        "outputId": "a957c53b-9f6f-455b-b44d-c6da9a74d0fb"
      },
      "execution_count": null,
      "outputs": [
        {
          "output_type": "stream",
          "name": "stdout",
          "text": [
            "Mounted at /content/drive\n"
          ]
        }
      ]
    },
    {
      "cell_type": "code",
      "source": [
        "df=pd.read_csv('/content/drive/MyDrive/PD/NewSpiral.csv')"
      ],
      "metadata": {
        "id": "EIQvXiMTin0l"
      },
      "execution_count": null,
      "outputs": []
    },
    {
      "cell_type": "code",
      "source": [
        "pd.set_option('display.max_rows', None)"
      ],
      "metadata": {
        "id": "rfsd6m6SaXtv"
      },
      "execution_count": null,
      "outputs": []
    },
    {
      "cell_type": "code",
      "source": [
        "df['ID_PATIENT'].value_counts()"
      ],
      "metadata": {
        "colab": {
          "base_uri": "https://localhost:8080/"
        },
        "id": "xvYFfqDPQhi1",
        "outputId": "6b3a0faa-a308-4084-9cc2-8afbd7e8b91d"
      },
      "execution_count": null,
      "outputs": [
        {
          "output_type": "execute_result",
          "data": {
            "text/plain": [
              "23     8\n",
              "31     8\n",
              "5      8\n",
              "59     4\n",
              "21     4\n",
              "143    4\n",
              "38     4\n",
              "47     4\n",
              "53     4\n",
              "235    4\n",
              "253    4\n",
              "261    4\n",
              "268    4\n",
              "273    4\n",
              "281    4\n",
              "247    4\n",
              "149    4\n",
              "157    4\n",
              "165    4\n",
              "186    4\n",
              "192    4\n",
              "196    4\n",
              "207    4\n",
              "218    4\n",
              "203    4\n",
              "224    4\n",
              "153    4\n",
              "176    4\n",
              "181    4\n",
              "230    4\n",
              "138    4\n",
              "22     4\n",
              "20     4\n",
              "76     4\n",
              "19     4\n",
              "301    4\n",
              "102    4\n",
              "305    4\n",
              "104    4\n",
              "127    4\n",
              "297    4\n",
              "299    4\n",
              "98     4\n",
              "78     4\n",
              "80     4\n",
              "86     4\n",
              "1      4\n",
              "2      4\n",
              "3      4\n",
              "4      4\n",
              "6      4\n",
              "7      4\n",
              "8      4\n",
              "9      4\n",
              "11     4\n",
              "12     4\n",
              "13     4\n",
              "14     4\n",
              "15     4\n",
              "16     4\n",
              "17     4\n",
              "18     4\n",
              "187    4\n",
              "Name: ID_PATIENT, dtype: int64"
            ]
          },
          "metadata": {},
          "execution_count": 6
        }
      ]
    },
    {
      "cell_type": "code",
      "source": [
        "df.head(5)"
      ],
      "metadata": {
        "colab": {
          "base_uri": "https://localhost:8080/",
          "height": 232
        },
        "id": "E1b4YgEST-xr",
        "outputId": "5a1792ff-177a-4e04-aecd-c06b16430e50"
      },
      "execution_count": null,
      "outputs": [
        {
          "output_type": "execute_result",
          "data": {
            "text/plain": [
              "  _ID_EXAM  ID_PATIENT  CLASS_TYPE GENDER RIGH/LEFT-HANDED  AGE           RMS  \\\n",
              "0       H1          59           1      M                R   58  14900.772670   \n",
              "1       H2          76           1      M                R   60   6076.106534   \n",
              "2       H3         301           1      F                R   56  12220.462340   \n",
              "3       H4         102           1      M                R   24   4810.072073   \n",
              "4       H5         305           1      M                R   79   5458.875925   \n",
              "\n",
              "   MAX_BETWEEN_ET_HT  MIN_BETWEEN_ET_HT  STD_DEVIATION_ET_HT        MRT  \\\n",
              "0       13207.241210        40856.39894             0.087041  56.978320   \n",
              "1        9440.754502        36137.73814             0.065872  39.597318   \n",
              "2       12247.263300        39871.73569             0.000000  46.183810   \n",
              "3        4904.029458        32262.38975             0.044374  31.485790   \n",
              "4        5911.591981        31795.46792             0.040906  47.231442   \n",
              "\n",
              "       MAX_HT    MIN_HT       STD_HT  \\\n",
              "0  192.737170  0.026662  4394.307090   \n",
              "1  169.753376  0.266595  2031.447046   \n",
              "2  192.536776  0.007857  3843.754479   \n",
              "3  200.401229  0.114530  1586.941716   \n",
              "4  134.897863  0.026703  2251.866128   \n",
              "\n",
              "   CHANGES_FROM_NEGATIVE_TO_POSITIVE_BETWEEN_ET_HT  \n",
              "0                                         0.120773  \n",
              "1                                         0.172414  \n",
              "2                                         0.123894  \n",
              "3                                         0.162011  \n",
              "4                                         0.202899  "
            ],
            "text/html": [
              "\n",
              "  <div id=\"df-4670a581-50b9-4b30-93cf-def2da3c33de\">\n",
              "    <div class=\"colab-df-container\">\n",
              "      <div>\n",
              "<style scoped>\n",
              "    .dataframe tbody tr th:only-of-type {\n",
              "        vertical-align: middle;\n",
              "    }\n",
              "\n",
              "    .dataframe tbody tr th {\n",
              "        vertical-align: top;\n",
              "    }\n",
              "\n",
              "    .dataframe thead th {\n",
              "        text-align: right;\n",
              "    }\n",
              "</style>\n",
              "<table border=\"1\" class=\"dataframe\">\n",
              "  <thead>\n",
              "    <tr style=\"text-align: right;\">\n",
              "      <th></th>\n",
              "      <th>_ID_EXAM</th>\n",
              "      <th>ID_PATIENT</th>\n",
              "      <th>CLASS_TYPE</th>\n",
              "      <th>GENDER</th>\n",
              "      <th>RIGH/LEFT-HANDED</th>\n",
              "      <th>AGE</th>\n",
              "      <th>RMS</th>\n",
              "      <th>MAX_BETWEEN_ET_HT</th>\n",
              "      <th>MIN_BETWEEN_ET_HT</th>\n",
              "      <th>STD_DEVIATION_ET_HT</th>\n",
              "      <th>MRT</th>\n",
              "      <th>MAX_HT</th>\n",
              "      <th>MIN_HT</th>\n",
              "      <th>STD_HT</th>\n",
              "      <th>CHANGES_FROM_NEGATIVE_TO_POSITIVE_BETWEEN_ET_HT</th>\n",
              "    </tr>\n",
              "  </thead>\n",
              "  <tbody>\n",
              "    <tr>\n",
              "      <th>0</th>\n",
              "      <td>H1</td>\n",
              "      <td>59</td>\n",
              "      <td>1</td>\n",
              "      <td>M</td>\n",
              "      <td>R</td>\n",
              "      <td>58</td>\n",
              "      <td>14900.772670</td>\n",
              "      <td>13207.241210</td>\n",
              "      <td>40856.39894</td>\n",
              "      <td>0.087041</td>\n",
              "      <td>56.978320</td>\n",
              "      <td>192.737170</td>\n",
              "      <td>0.026662</td>\n",
              "      <td>4394.307090</td>\n",
              "      <td>0.120773</td>\n",
              "    </tr>\n",
              "    <tr>\n",
              "      <th>1</th>\n",
              "      <td>H2</td>\n",
              "      <td>76</td>\n",
              "      <td>1</td>\n",
              "      <td>M</td>\n",
              "      <td>R</td>\n",
              "      <td>60</td>\n",
              "      <td>6076.106534</td>\n",
              "      <td>9440.754502</td>\n",
              "      <td>36137.73814</td>\n",
              "      <td>0.065872</td>\n",
              "      <td>39.597318</td>\n",
              "      <td>169.753376</td>\n",
              "      <td>0.266595</td>\n",
              "      <td>2031.447046</td>\n",
              "      <td>0.172414</td>\n",
              "    </tr>\n",
              "    <tr>\n",
              "      <th>2</th>\n",
              "      <td>H3</td>\n",
              "      <td>301</td>\n",
              "      <td>1</td>\n",
              "      <td>F</td>\n",
              "      <td>R</td>\n",
              "      <td>56</td>\n",
              "      <td>12220.462340</td>\n",
              "      <td>12247.263300</td>\n",
              "      <td>39871.73569</td>\n",
              "      <td>0.000000</td>\n",
              "      <td>46.183810</td>\n",
              "      <td>192.536776</td>\n",
              "      <td>0.007857</td>\n",
              "      <td>3843.754479</td>\n",
              "      <td>0.123894</td>\n",
              "    </tr>\n",
              "    <tr>\n",
              "      <th>3</th>\n",
              "      <td>H4</td>\n",
              "      <td>102</td>\n",
              "      <td>1</td>\n",
              "      <td>M</td>\n",
              "      <td>R</td>\n",
              "      <td>24</td>\n",
              "      <td>4810.072073</td>\n",
              "      <td>4904.029458</td>\n",
              "      <td>32262.38975</td>\n",
              "      <td>0.044374</td>\n",
              "      <td>31.485790</td>\n",
              "      <td>200.401229</td>\n",
              "      <td>0.114530</td>\n",
              "      <td>1586.941716</td>\n",
              "      <td>0.162011</td>\n",
              "    </tr>\n",
              "    <tr>\n",
              "      <th>4</th>\n",
              "      <td>H5</td>\n",
              "      <td>305</td>\n",
              "      <td>1</td>\n",
              "      <td>M</td>\n",
              "      <td>R</td>\n",
              "      <td>79</td>\n",
              "      <td>5458.875925</td>\n",
              "      <td>5911.591981</td>\n",
              "      <td>31795.46792</td>\n",
              "      <td>0.040906</td>\n",
              "      <td>47.231442</td>\n",
              "      <td>134.897863</td>\n",
              "      <td>0.026703</td>\n",
              "      <td>2251.866128</td>\n",
              "      <td>0.202899</td>\n",
              "    </tr>\n",
              "  </tbody>\n",
              "</table>\n",
              "</div>\n",
              "      <button class=\"colab-df-convert\" onclick=\"convertToInteractive('df-4670a581-50b9-4b30-93cf-def2da3c33de')\"\n",
              "              title=\"Convert this dataframe to an interactive table.\"\n",
              "              style=\"display:none;\">\n",
              "        \n",
              "  <svg xmlns=\"http://www.w3.org/2000/svg\" height=\"24px\"viewBox=\"0 0 24 24\"\n",
              "       width=\"24px\">\n",
              "    <path d=\"M0 0h24v24H0V0z\" fill=\"none\"/>\n",
              "    <path d=\"M18.56 5.44l.94 2.06.94-2.06 2.06-.94-2.06-.94-.94-2.06-.94 2.06-2.06.94zm-11 1L8.5 8.5l.94-2.06 2.06-.94-2.06-.94L8.5 2.5l-.94 2.06-2.06.94zm10 10l.94 2.06.94-2.06 2.06-.94-2.06-.94-.94-2.06-.94 2.06-2.06.94z\"/><path d=\"M17.41 7.96l-1.37-1.37c-.4-.4-.92-.59-1.43-.59-.52 0-1.04.2-1.43.59L10.3 9.45l-7.72 7.72c-.78.78-.78 2.05 0 2.83L4 21.41c.39.39.9.59 1.41.59.51 0 1.02-.2 1.41-.59l7.78-7.78 2.81-2.81c.8-.78.8-2.07 0-2.86zM5.41 20L4 18.59l7.72-7.72 1.47 1.35L5.41 20z\"/>\n",
              "  </svg>\n",
              "      </button>\n",
              "      \n",
              "  <style>\n",
              "    .colab-df-container {\n",
              "      display:flex;\n",
              "      flex-wrap:wrap;\n",
              "      gap: 12px;\n",
              "    }\n",
              "\n",
              "    .colab-df-convert {\n",
              "      background-color: #E8F0FE;\n",
              "      border: none;\n",
              "      border-radius: 50%;\n",
              "      cursor: pointer;\n",
              "      display: none;\n",
              "      fill: #1967D2;\n",
              "      height: 32px;\n",
              "      padding: 0 0 0 0;\n",
              "      width: 32px;\n",
              "    }\n",
              "\n",
              "    .colab-df-convert:hover {\n",
              "      background-color: #E2EBFA;\n",
              "      box-shadow: 0px 1px 2px rgba(60, 64, 67, 0.3), 0px 1px 3px 1px rgba(60, 64, 67, 0.15);\n",
              "      fill: #174EA6;\n",
              "    }\n",
              "\n",
              "    [theme=dark] .colab-df-convert {\n",
              "      background-color: #3B4455;\n",
              "      fill: #D2E3FC;\n",
              "    }\n",
              "\n",
              "    [theme=dark] .colab-df-convert:hover {\n",
              "      background-color: #434B5C;\n",
              "      box-shadow: 0px 1px 3px 1px rgba(0, 0, 0, 0.15);\n",
              "      filter: drop-shadow(0px 1px 2px rgba(0, 0, 0, 0.3));\n",
              "      fill: #FFFFFF;\n",
              "    }\n",
              "  </style>\n",
              "\n",
              "      <script>\n",
              "        const buttonEl =\n",
              "          document.querySelector('#df-4670a581-50b9-4b30-93cf-def2da3c33de button.colab-df-convert');\n",
              "        buttonEl.style.display =\n",
              "          google.colab.kernel.accessAllowed ? 'block' : 'none';\n",
              "\n",
              "        async function convertToInteractive(key) {\n",
              "          const element = document.querySelector('#df-4670a581-50b9-4b30-93cf-def2da3c33de');\n",
              "          const dataTable =\n",
              "            await google.colab.kernel.invokeFunction('convertToInteractive',\n",
              "                                                     [key], {});\n",
              "          if (!dataTable) return;\n",
              "\n",
              "          const docLinkHtml = 'Like what you see? Visit the ' +\n",
              "            '<a target=\"_blank\" href=https://colab.research.google.com/notebooks/data_table.ipynb>data table notebook</a>'\n",
              "            + ' to learn more about interactive tables.';\n",
              "          element.innerHTML = '';\n",
              "          dataTable['output_type'] = 'display_data';\n",
              "          await google.colab.output.renderOutput(dataTable, element);\n",
              "          const docLink = document.createElement('div');\n",
              "          docLink.innerHTML = docLinkHtml;\n",
              "          element.appendChild(docLink);\n",
              "        }\n",
              "      </script>\n",
              "    </div>\n",
              "  </div>\n",
              "  "
            ]
          },
          "metadata": {},
          "execution_count": 12
        }
      ]
    },
    {
      "cell_type": "code",
      "source": [
        "df.drop(columns='IMAGE_NAME',inplace=True)"
      ],
      "metadata": {
        "id": "uRRhVdP9xxRV"
      },
      "execution_count": null,
      "outputs": []
    },
    {
      "cell_type": "code",
      "source": [
        "pd.pivot_table(df,index='CLASS_TYPE',values='AGE',aggfunc=np.mean)"
      ],
      "metadata": {
        "colab": {
          "base_uri": "https://localhost:8080/",
          "height": 143
        },
        "id": "jYbkI_T2_Nse",
        "outputId": "a72edbd5-8a1b-41c6-9e19-89ba06ee6ea7"
      },
      "execution_count": null,
      "outputs": [
        {
          "output_type": "execute_result",
          "data": {
            "text/plain": [
              "                  AGE\n",
              "CLASS_TYPE           \n",
              "1           44.057143\n",
              "2           57.838710"
            ],
            "text/html": [
              "\n",
              "  <div id=\"df-128910cb-0e8d-42ad-bb1c-52bc3be2df7e\">\n",
              "    <div class=\"colab-df-container\">\n",
              "      <div>\n",
              "<style scoped>\n",
              "    .dataframe tbody tr th:only-of-type {\n",
              "        vertical-align: middle;\n",
              "    }\n",
              "\n",
              "    .dataframe tbody tr th {\n",
              "        vertical-align: top;\n",
              "    }\n",
              "\n",
              "    .dataframe thead th {\n",
              "        text-align: right;\n",
              "    }\n",
              "</style>\n",
              "<table border=\"1\" class=\"dataframe\">\n",
              "  <thead>\n",
              "    <tr style=\"text-align: right;\">\n",
              "      <th></th>\n",
              "      <th>AGE</th>\n",
              "    </tr>\n",
              "    <tr>\n",
              "      <th>CLASS_TYPE</th>\n",
              "      <th></th>\n",
              "    </tr>\n",
              "  </thead>\n",
              "  <tbody>\n",
              "    <tr>\n",
              "      <th>1</th>\n",
              "      <td>44.057143</td>\n",
              "    </tr>\n",
              "    <tr>\n",
              "      <th>2</th>\n",
              "      <td>57.838710</td>\n",
              "    </tr>\n",
              "  </tbody>\n",
              "</table>\n",
              "</div>\n",
              "      <button class=\"colab-df-convert\" onclick=\"convertToInteractive('df-128910cb-0e8d-42ad-bb1c-52bc3be2df7e')\"\n",
              "              title=\"Convert this dataframe to an interactive table.\"\n",
              "              style=\"display:none;\">\n",
              "        \n",
              "  <svg xmlns=\"http://www.w3.org/2000/svg\" height=\"24px\"viewBox=\"0 0 24 24\"\n",
              "       width=\"24px\">\n",
              "    <path d=\"M0 0h24v24H0V0z\" fill=\"none\"/>\n",
              "    <path d=\"M18.56 5.44l.94 2.06.94-2.06 2.06-.94-2.06-.94-.94-2.06-.94 2.06-2.06.94zm-11 1L8.5 8.5l.94-2.06 2.06-.94-2.06-.94L8.5 2.5l-.94 2.06-2.06.94zm10 10l.94 2.06.94-2.06 2.06-.94-2.06-.94-.94-2.06-.94 2.06-2.06.94z\"/><path d=\"M17.41 7.96l-1.37-1.37c-.4-.4-.92-.59-1.43-.59-.52 0-1.04.2-1.43.59L10.3 9.45l-7.72 7.72c-.78.78-.78 2.05 0 2.83L4 21.41c.39.39.9.59 1.41.59.51 0 1.02-.2 1.41-.59l7.78-7.78 2.81-2.81c.8-.78.8-2.07 0-2.86zM5.41 20L4 18.59l7.72-7.72 1.47 1.35L5.41 20z\"/>\n",
              "  </svg>\n",
              "      </button>\n",
              "      \n",
              "  <style>\n",
              "    .colab-df-container {\n",
              "      display:flex;\n",
              "      flex-wrap:wrap;\n",
              "      gap: 12px;\n",
              "    }\n",
              "\n",
              "    .colab-df-convert {\n",
              "      background-color: #E8F0FE;\n",
              "      border: none;\n",
              "      border-radius: 50%;\n",
              "      cursor: pointer;\n",
              "      display: none;\n",
              "      fill: #1967D2;\n",
              "      height: 32px;\n",
              "      padding: 0 0 0 0;\n",
              "      width: 32px;\n",
              "    }\n",
              "\n",
              "    .colab-df-convert:hover {\n",
              "      background-color: #E2EBFA;\n",
              "      box-shadow: 0px 1px 2px rgba(60, 64, 67, 0.3), 0px 1px 3px 1px rgba(60, 64, 67, 0.15);\n",
              "      fill: #174EA6;\n",
              "    }\n",
              "\n",
              "    [theme=dark] .colab-df-convert {\n",
              "      background-color: #3B4455;\n",
              "      fill: #D2E3FC;\n",
              "    }\n",
              "\n",
              "    [theme=dark] .colab-df-convert:hover {\n",
              "      background-color: #434B5C;\n",
              "      box-shadow: 0px 1px 3px 1px rgba(0, 0, 0, 0.15);\n",
              "      filter: drop-shadow(0px 1px 2px rgba(0, 0, 0, 0.3));\n",
              "      fill: #FFFFFF;\n",
              "    }\n",
              "  </style>\n",
              "\n",
              "      <script>\n",
              "        const buttonEl =\n",
              "          document.querySelector('#df-128910cb-0e8d-42ad-bb1c-52bc3be2df7e button.colab-df-convert');\n",
              "        buttonEl.style.display =\n",
              "          google.colab.kernel.accessAllowed ? 'block' : 'none';\n",
              "\n",
              "        async function convertToInteractive(key) {\n",
              "          const element = document.querySelector('#df-128910cb-0e8d-42ad-bb1c-52bc3be2df7e');\n",
              "          const dataTable =\n",
              "            await google.colab.kernel.invokeFunction('convertToInteractive',\n",
              "                                                     [key], {});\n",
              "          if (!dataTable) return;\n",
              "\n",
              "          const docLinkHtml = 'Like what you see? Visit the ' +\n",
              "            '<a target=\"_blank\" href=https://colab.research.google.com/notebooks/data_table.ipynb>data table notebook</a>'\n",
              "            + ' to learn more about interactive tables.';\n",
              "          element.innerHTML = '';\n",
              "          dataTable['output_type'] = 'display_data';\n",
              "          await google.colab.output.renderOutput(dataTable, element);\n",
              "          const docLink = document.createElement('div');\n",
              "          docLink.innerHTML = docLinkHtml;\n",
              "          element.appendChild(docLink);\n",
              "        }\n",
              "      </script>\n",
              "    </div>\n",
              "  </div>\n",
              "  "
            ]
          },
          "metadata": {},
          "execution_count": 21
        }
      ]
    },
    {
      "cell_type": "code",
      "source": [
        "df['CLASS_TYPE'].value_counts()"
      ],
      "metadata": {
        "colab": {
          "base_uri": "https://localhost:8080/"
        },
        "id": "Wzj1D9vz_w_i",
        "outputId": "e441e388-dea0-49a7-ac05-68844914547e"
      },
      "execution_count": null,
      "outputs": [
        {
          "output_type": "execute_result",
          "data": {
            "text/plain": [
              "1    140\n",
              "2    124\n",
              "Name: CLASS_TYPE, dtype: int64"
            ]
          },
          "metadata": {},
          "execution_count": 22
        }
      ]
    },
    {
      "cell_type": "code",
      "source": [
        "pd.pivot_table(df,index='CLASS_TYPE',values='RMS',aggfunc=np.mean)"
      ],
      "metadata": {
        "colab": {
          "base_uri": "https://localhost:8080/",
          "height": 143
        },
        "id": "cJB1DUgxAB24",
        "outputId": "e76c269e-fd26-4187-dff5-cfe1f0f71960"
      },
      "execution_count": null,
      "outputs": [
        {
          "output_type": "execute_result",
          "data": {
            "text/plain": [
              "                    RMS\n",
              "CLASS_TYPE             \n",
              "1           6283.068098\n",
              "2           4781.939637"
            ],
            "text/html": [
              "\n",
              "  <div id=\"df-d95494b6-81b3-41d1-9cb1-e91656e284a9\">\n",
              "    <div class=\"colab-df-container\">\n",
              "      <div>\n",
              "<style scoped>\n",
              "    .dataframe tbody tr th:only-of-type {\n",
              "        vertical-align: middle;\n",
              "    }\n",
              "\n",
              "    .dataframe tbody tr th {\n",
              "        vertical-align: top;\n",
              "    }\n",
              "\n",
              "    .dataframe thead th {\n",
              "        text-align: right;\n",
              "    }\n",
              "</style>\n",
              "<table border=\"1\" class=\"dataframe\">\n",
              "  <thead>\n",
              "    <tr style=\"text-align: right;\">\n",
              "      <th></th>\n",
              "      <th>RMS</th>\n",
              "    </tr>\n",
              "    <tr>\n",
              "      <th>CLASS_TYPE</th>\n",
              "      <th></th>\n",
              "    </tr>\n",
              "  </thead>\n",
              "  <tbody>\n",
              "    <tr>\n",
              "      <th>1</th>\n",
              "      <td>6283.068098</td>\n",
              "    </tr>\n",
              "    <tr>\n",
              "      <th>2</th>\n",
              "      <td>4781.939637</td>\n",
              "    </tr>\n",
              "  </tbody>\n",
              "</table>\n",
              "</div>\n",
              "      <button class=\"colab-df-convert\" onclick=\"convertToInteractive('df-d95494b6-81b3-41d1-9cb1-e91656e284a9')\"\n",
              "              title=\"Convert this dataframe to an interactive table.\"\n",
              "              style=\"display:none;\">\n",
              "        \n",
              "  <svg xmlns=\"http://www.w3.org/2000/svg\" height=\"24px\"viewBox=\"0 0 24 24\"\n",
              "       width=\"24px\">\n",
              "    <path d=\"M0 0h24v24H0V0z\" fill=\"none\"/>\n",
              "    <path d=\"M18.56 5.44l.94 2.06.94-2.06 2.06-.94-2.06-.94-.94-2.06-.94 2.06-2.06.94zm-11 1L8.5 8.5l.94-2.06 2.06-.94-2.06-.94L8.5 2.5l-.94 2.06-2.06.94zm10 10l.94 2.06.94-2.06 2.06-.94-2.06-.94-.94-2.06-.94 2.06-2.06.94z\"/><path d=\"M17.41 7.96l-1.37-1.37c-.4-.4-.92-.59-1.43-.59-.52 0-1.04.2-1.43.59L10.3 9.45l-7.72 7.72c-.78.78-.78 2.05 0 2.83L4 21.41c.39.39.9.59 1.41.59.51 0 1.02-.2 1.41-.59l7.78-7.78 2.81-2.81c.8-.78.8-2.07 0-2.86zM5.41 20L4 18.59l7.72-7.72 1.47 1.35L5.41 20z\"/>\n",
              "  </svg>\n",
              "      </button>\n",
              "      \n",
              "  <style>\n",
              "    .colab-df-container {\n",
              "      display:flex;\n",
              "      flex-wrap:wrap;\n",
              "      gap: 12px;\n",
              "    }\n",
              "\n",
              "    .colab-df-convert {\n",
              "      background-color: #E8F0FE;\n",
              "      border: none;\n",
              "      border-radius: 50%;\n",
              "      cursor: pointer;\n",
              "      display: none;\n",
              "      fill: #1967D2;\n",
              "      height: 32px;\n",
              "      padding: 0 0 0 0;\n",
              "      width: 32px;\n",
              "    }\n",
              "\n",
              "    .colab-df-convert:hover {\n",
              "      background-color: #E2EBFA;\n",
              "      box-shadow: 0px 1px 2px rgba(60, 64, 67, 0.3), 0px 1px 3px 1px rgba(60, 64, 67, 0.15);\n",
              "      fill: #174EA6;\n",
              "    }\n",
              "\n",
              "    [theme=dark] .colab-df-convert {\n",
              "      background-color: #3B4455;\n",
              "      fill: #D2E3FC;\n",
              "    }\n",
              "\n",
              "    [theme=dark] .colab-df-convert:hover {\n",
              "      background-color: #434B5C;\n",
              "      box-shadow: 0px 1px 3px 1px rgba(0, 0, 0, 0.15);\n",
              "      filter: drop-shadow(0px 1px 2px rgba(0, 0, 0, 0.3));\n",
              "      fill: #FFFFFF;\n",
              "    }\n",
              "  </style>\n",
              "\n",
              "      <script>\n",
              "        const buttonEl =\n",
              "          document.querySelector('#df-d95494b6-81b3-41d1-9cb1-e91656e284a9 button.colab-df-convert');\n",
              "        buttonEl.style.display =\n",
              "          google.colab.kernel.accessAllowed ? 'block' : 'none';\n",
              "\n",
              "        async function convertToInteractive(key) {\n",
              "          const element = document.querySelector('#df-d95494b6-81b3-41d1-9cb1-e91656e284a9');\n",
              "          const dataTable =\n",
              "            await google.colab.kernel.invokeFunction('convertToInteractive',\n",
              "                                                     [key], {});\n",
              "          if (!dataTable) return;\n",
              "\n",
              "          const docLinkHtml = 'Like what you see? Visit the ' +\n",
              "            '<a target=\"_blank\" href=https://colab.research.google.com/notebooks/data_table.ipynb>data table notebook</a>'\n",
              "            + ' to learn more about interactive tables.';\n",
              "          element.innerHTML = '';\n",
              "          dataTable['output_type'] = 'display_data';\n",
              "          await google.colab.output.renderOutput(dataTable, element);\n",
              "          const docLink = document.createElement('div');\n",
              "          docLink.innerHTML = docLinkHtml;\n",
              "          element.appendChild(docLink);\n",
              "        }\n",
              "      </script>\n",
              "    </div>\n",
              "  </div>\n",
              "  "
            ]
          },
          "metadata": {},
          "execution_count": 23
        }
      ]
    },
    {
      "cell_type": "code",
      "source": [
        "pd.pivot_table(df,index='CLASS_TYPE',values='MAX_BETWEEN_ET_HT',aggfunc=np.mean)"
      ],
      "metadata": {
        "colab": {
          "base_uri": "https://localhost:8080/",
          "height": 143
        },
        "id": "oxziWzMWAL9E",
        "outputId": "574bb28c-089c-45b2-8039-d4991c3012bd"
      },
      "execution_count": null,
      "outputs": [
        {
          "output_type": "execute_result",
          "data": {
            "text/plain": [
              "            MAX_BETWEEN_ET_HT\n",
              "CLASS_TYPE                   \n",
              "1                 7187.910232\n",
              "2                 6863.717790"
            ],
            "text/html": [
              "\n",
              "  <div id=\"df-7ba1c6bd-8f78-412d-819a-bad41d029931\">\n",
              "    <div class=\"colab-df-container\">\n",
              "      <div>\n",
              "<style scoped>\n",
              "    .dataframe tbody tr th:only-of-type {\n",
              "        vertical-align: middle;\n",
              "    }\n",
              "\n",
              "    .dataframe tbody tr th {\n",
              "        vertical-align: top;\n",
              "    }\n",
              "\n",
              "    .dataframe thead th {\n",
              "        text-align: right;\n",
              "    }\n",
              "</style>\n",
              "<table border=\"1\" class=\"dataframe\">\n",
              "  <thead>\n",
              "    <tr style=\"text-align: right;\">\n",
              "      <th></th>\n",
              "      <th>MAX_BETWEEN_ET_HT</th>\n",
              "    </tr>\n",
              "    <tr>\n",
              "      <th>CLASS_TYPE</th>\n",
              "      <th></th>\n",
              "    </tr>\n",
              "  </thead>\n",
              "  <tbody>\n",
              "    <tr>\n",
              "      <th>1</th>\n",
              "      <td>7187.910232</td>\n",
              "    </tr>\n",
              "    <tr>\n",
              "      <th>2</th>\n",
              "      <td>6863.717790</td>\n",
              "    </tr>\n",
              "  </tbody>\n",
              "</table>\n",
              "</div>\n",
              "      <button class=\"colab-df-convert\" onclick=\"convertToInteractive('df-7ba1c6bd-8f78-412d-819a-bad41d029931')\"\n",
              "              title=\"Convert this dataframe to an interactive table.\"\n",
              "              style=\"display:none;\">\n",
              "        \n",
              "  <svg xmlns=\"http://www.w3.org/2000/svg\" height=\"24px\"viewBox=\"0 0 24 24\"\n",
              "       width=\"24px\">\n",
              "    <path d=\"M0 0h24v24H0V0z\" fill=\"none\"/>\n",
              "    <path d=\"M18.56 5.44l.94 2.06.94-2.06 2.06-.94-2.06-.94-.94-2.06-.94 2.06-2.06.94zm-11 1L8.5 8.5l.94-2.06 2.06-.94-2.06-.94L8.5 2.5l-.94 2.06-2.06.94zm10 10l.94 2.06.94-2.06 2.06-.94-2.06-.94-.94-2.06-.94 2.06-2.06.94z\"/><path d=\"M17.41 7.96l-1.37-1.37c-.4-.4-.92-.59-1.43-.59-.52 0-1.04.2-1.43.59L10.3 9.45l-7.72 7.72c-.78.78-.78 2.05 0 2.83L4 21.41c.39.39.9.59 1.41.59.51 0 1.02-.2 1.41-.59l7.78-7.78 2.81-2.81c.8-.78.8-2.07 0-2.86zM5.41 20L4 18.59l7.72-7.72 1.47 1.35L5.41 20z\"/>\n",
              "  </svg>\n",
              "      </button>\n",
              "      \n",
              "  <style>\n",
              "    .colab-df-container {\n",
              "      display:flex;\n",
              "      flex-wrap:wrap;\n",
              "      gap: 12px;\n",
              "    }\n",
              "\n",
              "    .colab-df-convert {\n",
              "      background-color: #E8F0FE;\n",
              "      border: none;\n",
              "      border-radius: 50%;\n",
              "      cursor: pointer;\n",
              "      display: none;\n",
              "      fill: #1967D2;\n",
              "      height: 32px;\n",
              "      padding: 0 0 0 0;\n",
              "      width: 32px;\n",
              "    }\n",
              "\n",
              "    .colab-df-convert:hover {\n",
              "      background-color: #E2EBFA;\n",
              "      box-shadow: 0px 1px 2px rgba(60, 64, 67, 0.3), 0px 1px 3px 1px rgba(60, 64, 67, 0.15);\n",
              "      fill: #174EA6;\n",
              "    }\n",
              "\n",
              "    [theme=dark] .colab-df-convert {\n",
              "      background-color: #3B4455;\n",
              "      fill: #D2E3FC;\n",
              "    }\n",
              "\n",
              "    [theme=dark] .colab-df-convert:hover {\n",
              "      background-color: #434B5C;\n",
              "      box-shadow: 0px 1px 3px 1px rgba(0, 0, 0, 0.15);\n",
              "      filter: drop-shadow(0px 1px 2px rgba(0, 0, 0, 0.3));\n",
              "      fill: #FFFFFF;\n",
              "    }\n",
              "  </style>\n",
              "\n",
              "      <script>\n",
              "        const buttonEl =\n",
              "          document.querySelector('#df-7ba1c6bd-8f78-412d-819a-bad41d029931 button.colab-df-convert');\n",
              "        buttonEl.style.display =\n",
              "          google.colab.kernel.accessAllowed ? 'block' : 'none';\n",
              "\n",
              "        async function convertToInteractive(key) {\n",
              "          const element = document.querySelector('#df-7ba1c6bd-8f78-412d-819a-bad41d029931');\n",
              "          const dataTable =\n",
              "            await google.colab.kernel.invokeFunction('convertToInteractive',\n",
              "                                                     [key], {});\n",
              "          if (!dataTable) return;\n",
              "\n",
              "          const docLinkHtml = 'Like what you see? Visit the ' +\n",
              "            '<a target=\"_blank\" href=https://colab.research.google.com/notebooks/data_table.ipynb>data table notebook</a>'\n",
              "            + ' to learn more about interactive tables.';\n",
              "          element.innerHTML = '';\n",
              "          dataTable['output_type'] = 'display_data';\n",
              "          await google.colab.output.renderOutput(dataTable, element);\n",
              "          const docLink = document.createElement('div');\n",
              "          docLink.innerHTML = docLinkHtml;\n",
              "          element.appendChild(docLink);\n",
              "        }\n",
              "      </script>\n",
              "    </div>\n",
              "  </div>\n",
              "  "
            ]
          },
          "metadata": {},
          "execution_count": 24
        }
      ]
    },
    {
      "cell_type": "code",
      "source": [
        "import numpy as nm  \n",
        "import matplotlib.pyplot as plt"
      ],
      "metadata": {
        "id": "xaWb4DYVAUpW"
      },
      "execution_count": null,
      "outputs": []
    },
    {
      "cell_type": "code",
      "source": [
        "Y=df['CLASS_TYPE']"
      ],
      "metadata": {
        "id": "pgNTTTi7Af_r"
      },
      "execution_count": null,
      "outputs": []
    },
    {
      "cell_type": "code",
      "source": [
        "from sklearn import preprocessing\n",
        "le = preprocessing.LabelEncoder()"
      ],
      "metadata": {
        "id": "6dtEjzXaAybI"
      },
      "execution_count": null,
      "outputs": []
    },
    {
      "cell_type": "code",
      "source": [
        "df.GENDER= le.fit_transform(df.GENDER.values)"
      ],
      "metadata": {
        "id": "-SLywV74BEy0"
      },
      "execution_count": null,
      "outputs": []
    },
    {
      "cell_type": "code",
      "source": [
        "df['RIGH/LEFT-HANDED'] = le.fit_transform(df['RIGH/LEFT-HANDED'].values)"
      ],
      "metadata": {
        "id": "PU2qZ6DtBbwd"
      },
      "execution_count": null,
      "outputs": []
    },
    {
      "cell_type": "code",
      "source": [
        "X=df"
      ],
      "metadata": {
        "id": "WdEzXWRqBy1S"
      },
      "execution_count": null,
      "outputs": []
    },
    {
      "cell_type": "code",
      "source": [
        "X.columns"
      ],
      "metadata": {
        "colab": {
          "base_uri": "https://localhost:8080/"
        },
        "id": "GQXd_ecMB6_8",
        "outputId": "e4b1e928-604a-4506-efec-f422d09e3c71"
      },
      "execution_count": null,
      "outputs": [
        {
          "output_type": "execute_result",
          "data": {
            "text/plain": [
              "Index(['_ID_EXAM', 'IMAGE_NAME', 'ID_PATIENT', 'CLASS_TYPE', 'GENDER',\n",
              "       'RIGH/LEFT-HANDED', 'AGE', 'RMS', 'MAX_BETWEEN_ET_HT',\n",
              "       'MIN_BETWEEN_ET_HT', 'STD_DEVIATION_ET_HT', 'MRT', 'MAX_HT', 'MIN_HT',\n",
              "       'STD_HT', 'CHANGES_FROM_NEGATIVE_TO_POSITIVE_BETWEEN_ET_HT'],\n",
              "      dtype='object')"
            ]
          },
          "metadata": {},
          "execution_count": 30
        }
      ]
    },
    {
      "cell_type": "code",
      "source": [
        "X.drop(columns=['_ID_EXAM','ID_PATIENT'],inplace=True)"
      ],
      "metadata": {
        "id": "4eB8qX7WB8_y"
      },
      "execution_count": null,
      "outputs": []
    },
    {
      "cell_type": "code",
      "source": [
        "X.drop(columns=['CLASS_TYPE'],inplace=True)"
      ],
      "metadata": {
        "id": "A1AxSnGCCQKj"
      },
      "execution_count": null,
      "outputs": []
    },
    {
      "cell_type": "code",
      "source": [
        "from sklearn.model_selection import train_test_split  \n",
        "x_train, x_test, y_train, y_test= train_test_split(X, Y, test_size= 0.25, random_state=0)  "
      ],
      "metadata": {
        "id": "4vm2RmYwCiSg"
      },
      "execution_count": null,
      "outputs": []
    },
    {
      "cell_type": "code",
      "source": [
        "from sklearn.preprocessing import StandardScaler    \n",
        "st_x= StandardScaler()    \n",
        "x_train= st_x.fit_transform(x_train)    \n",
        "x_test= st_x.transform(x_test)      "
      ],
      "metadata": {
        "id": "WVgjEQ2vCrdT"
      },
      "execution_count": null,
      "outputs": []
    },
    {
      "cell_type": "code",
      "source": [
        "from sklearn.svm import SVC # \"Support vector classifier\"  \n",
        "classifier = SVC(kernel='linear', random_state=0)  \n",
        "classifier.fit(x_train, y_train)"
      ],
      "metadata": {
        "colab": {
          "base_uri": "https://localhost:8080/"
        },
        "id": "ZuyjGXPuCxR_",
        "outputId": "1e52031c-b98b-48af-8913-b0df7b21b1b4"
      },
      "execution_count": null,
      "outputs": [
        {
          "output_type": "execute_result",
          "data": {
            "text/plain": [
              "SVC(kernel='linear', random_state=0)"
            ]
          },
          "metadata": {},
          "execution_count": 24
        }
      ]
    },
    {
      "cell_type": "code",
      "source": [
        "y_pred= classifier.predict(x_test)  "
      ],
      "metadata": {
        "id": "I3HhlDaUC1Wy"
      },
      "execution_count": null,
      "outputs": []
    },
    {
      "cell_type": "code",
      "source": [
        "from sklearn.metrics import confusion_matrix  \n",
        "cm= confusion_matrix(y_test, y_pred)  \n"
      ],
      "metadata": {
        "id": "4KSYTeJjC6RR"
      },
      "execution_count": null,
      "outputs": []
    },
    {
      "cell_type": "code",
      "source": [
        "classifier.score(x_train, y_train)"
      ],
      "metadata": {
        "colab": {
          "base_uri": "https://localhost:8080/"
        },
        "id": "6jbBvYayDCty",
        "outputId": "7b95dda2-3d8e-4117-91d5-bc22ca26c7e5"
      },
      "execution_count": null,
      "outputs": [
        {
          "output_type": "execute_result",
          "data": {
            "text/plain": [
              "0.8131313131313131"
            ]
          },
          "metadata": {},
          "execution_count": 27
        }
      ]
    },
    {
      "cell_type": "code",
      "source": [
        "from sklearn.neural_network import MLPClassifier"
      ],
      "metadata": {
        "id": "rmaj0IiiEeLO"
      },
      "execution_count": null,
      "outputs": []
    },
    {
      "cell_type": "code",
      "source": [
        "mlc=MLPClassifier(hidden_layer_sizes=(150,175,100,50,30), max_iter=5000,random_state=0,alpha=0.0001,solver=\"lbfgs\",verbose=True) "
      ],
      "metadata": {
        "id": "S1WS6PLPFA5-"
      },
      "execution_count": null,
      "outputs": []
    },
    {
      "cell_type": "code",
      "source": [
        "mlc.fit(x_train,y_train)\n"
      ],
      "metadata": {
        "colab": {
          "base_uri": "https://localhost:8080/"
        },
        "id": "CFkOLeuCFDC0",
        "outputId": "dc457c91-a5ec-4537-8bfa-a70d24189cde"
      },
      "execution_count": null,
      "outputs": [
        {
          "output_type": "execute_result",
          "data": {
            "text/plain": [
              "MLPClassifier(hidden_layer_sizes=(150, 175, 100, 50, 30), max_iter=5000,\n",
              "              random_state=0, solver='lbfgs', verbose=True)"
            ]
          },
          "metadata": {},
          "execution_count": 30
        }
      ]
    },
    {
      "cell_type": "code",
      "source": [
        "train_acc_cla=mlc.score(x_train,y_train)"
      ],
      "metadata": {
        "id": "etPk5c91FIq0"
      },
      "execution_count": null,
      "outputs": []
    },
    {
      "cell_type": "code",
      "source": [
        "print(train_acc_cla)"
      ],
      "metadata": {
        "colab": {
          "base_uri": "https://localhost:8080/"
        },
        "id": "38U2MLuxFPzb",
        "outputId": "7826280d-99ec-4af5-8eef-65c8d54f6f95"
      },
      "execution_count": null,
      "outputs": [
        {
          "output_type": "stream",
          "name": "stdout",
          "text": [
            "1.0\n"
          ]
        }
      ]
    },
    {
      "cell_type": "code",
      "source": [
        "mlc.fit(x_test,y_test)\n",
        "test_acc_cla=mlc.score(x_test,y_test)\n"
      ],
      "metadata": {
        "id": "UrchwXlWFT6_"
      },
      "execution_count": null,
      "outputs": []
    },
    {
      "cell_type": "code",
      "source": [
        "print(test_acc_cla)"
      ],
      "metadata": {
        "colab": {
          "base_uri": "https://localhost:8080/"
        },
        "id": "poCf_CKdFUFc",
        "outputId": "c14500d9-4ed6-4799-997e-d8300c542028"
      },
      "execution_count": null,
      "outputs": [
        {
          "output_type": "stream",
          "name": "stdout",
          "text": [
            "1.0\n"
          ]
        }
      ]
    },
    {
      "cell_type": "code",
      "source": [
        "y_pred = mlc.predict(x_test)"
      ],
      "metadata": {
        "id": "SDExtYQ9GAuD"
      },
      "execution_count": null,
      "outputs": []
    },
    {
      "cell_type": "code",
      "source": [
        "from sklearn.metrics import confusion_matrix"
      ],
      "metadata": {
        "id": "EHq4ZO8YGEy2"
      },
      "execution_count": null,
      "outputs": []
    },
    {
      "cell_type": "code",
      "source": [
        "cm = confusion_matrix(y_test, y_pred)"
      ],
      "metadata": {
        "id": "nNOra4yRGMqX"
      },
      "execution_count": null,
      "outputs": []
    },
    {
      "cell_type": "code",
      "source": [
        "cm_df = pd.DataFrame(cm,\n",
        "                     index = ['healthy','PD'], \n",
        "                     columns = ['healthy','PD'])"
      ],
      "metadata": {
        "id": "sKKcvzVdGTl2"
      },
      "execution_count": null,
      "outputs": []
    },
    {
      "cell_type": "code",
      "source": [
        "plt.figure(figsize=(5,4))\n",
        "sns.heatmap(cm_df, annot=True)\n",
        "plt.title('Confusion Matrix')\n",
        "plt.ylabel('Actal Values')\n",
        "plt.xlabel('Predicted Values')\n",
        "plt.show()"
      ],
      "metadata": {
        "colab": {
          "base_uri": "https://localhost:8080/",
          "height": 295
        },
        "id": "3drgVcTTGi6H",
        "outputId": "04a143c2-573d-4df7-cd5b-f61719e71ffc"
      },
      "execution_count": null,
      "outputs": [
        {
          "output_type": "display_data",
          "data": {
            "text/plain": [
              "<Figure size 360x288 with 2 Axes>"
            ],
            "image/png": "[encoded data removed]"
          },
          "metadata": {
            "needs_background": "light"
          }
        }
      ]
    },
    {
      "cell_type": "code",
      "source": [
        "import seaborn as sns"
      ],
      "metadata": {
        "id": "FWSxMGxmGoGn"
      },
      "execution_count": null,
      "outputs": []
    },
    {
      "cell_type": "code",
      "source": [
        "from sklearn import svm\n",
        "from sklearn.ensemble import RandomForestClassifier\n",
        "from sklearn.linear_model import LogisticRegression\n",
        "from sklearn.pipeline import make_pipeline\n",
        "from sklearn.model_selection import GridSearchCV"
      ],
      "metadata": {
        "id": "dm0ayas4NvCI"
      },
      "execution_count": null,
      "outputs": []
    },
    {
      "cell_type": "code",
      "source": [
        "model_params = {\n",
        "    'svm': {\n",
        "        'model': svm.SVC(gamma='auto',probability=True),\n",
        "        'params' : {\n",
        "            'svc__C': [1,10,100,1000],\n",
        "            'svc__kernel': ['rbf','linear','poly']\n",
        "        }  \n",
        "    },\n",
        "    'random_forest': {\n",
        "        'model': RandomForestClassifier(),\n",
        "        'params' : {\n",
        "            'randomforestclassifier__n_estimators': [100,150],\n",
        "            'randomforestclassifier__criterion': ['gini','entropy']\n",
        "\n",
        "\n",
        "        }\n",
        "    },\n",
        "    'logistic_regression' : {\n",
        "        'model': LogisticRegression(multi_class='auto'),\n",
        "        'params': {\n",
        "            'logisticregression__C': [1,0.5,0.2],\n",
        "            'logisticregression__solver':['liblinear']\n",
        "\n",
        "        }\n",
        "    }\n",
        "}"
      ],
      "metadata": {
        "id": "8_hLaFmlN0Ne"
      },
      "execution_count": null,
      "outputs": []
    },
    {
      "cell_type": "code",
      "source": [
        "scores = []\n",
        "best_estimators = {}\n",
        "import pandas as pd\n",
        "for algo, mp in model_params.items():\n",
        "    pipe = make_pipeline(StandardScaler(), mp['model'])\n",
        "    clf =  GridSearchCV(pipe, mp['params'], cv=5, return_train_score=False)\n",
        "    clf.fit(x_train, y_train)\n",
        "    scores.append({\n",
        "        'model': algo,\n",
        "        'best_score': clf.best_score_,\n",
        "        'best_params': clf.best_params_\n",
        "    })\n",
        "    best_estimators[algo] = clf.best_estimator_\n",
        "    \n",
        "df1 = pd.DataFrame(scores,columns=['model','best_score','best_params'])\n",
        "df1"
      ],
      "metadata": {
        "colab": {
          "base_uri": "https://localhost:8080/",
          "height": 143
        },
        "id": "7Dc-7wjjN5Sk",
        "outputId": "e05120b9-5bff-442c-a6c8-2553124b5460"
      },
      "execution_count": null,
      "outputs": [
        {
          "output_type": "execute_result",
          "data": {
            "text/plain": [
              "                 model  best_score  \\\n",
              "0                  svm    0.838333   \n",
              "1        random_forest    0.828077   \n",
              "2  logistic_regression    0.788077   \n",
              "\n",
              "                                         best_params  \n",
              "0               {'svc__C': 10, 'svc__kernel': 'rbf'}  \n",
              "1  {'randomforestclassifier__criterion': 'entropy...  \n",
              "2  {'logisticregression__C': 0.5, 'logisticregres...  "
            ],
            "text/html": [
              "\n",
              "  <div id=\"df-e9af14f6-bf84-444a-b29a-18cc1a2b8194\">\n",
              "    <div class=\"colab-df-container\">\n",
              "      <div>\n",
              "<style scoped>\n",
              "    .dataframe tbody tr th:only-of-type {\n",
              "        vertical-align: middle;\n",
              "    }\n",
              "\n",
              "    .dataframe tbody tr th {\n",
              "        vertical-align: top;\n",
              "    }\n",
              "\n",
              "    .dataframe thead th {\n",
              "        text-align: right;\n",
              "    }\n",
              "</style>\n",
              "<table border=\"1\" class=\"dataframe\">\n",
              "  <thead>\n",
              "    <tr style=\"text-align: right;\">\n",
              "      <th></th>\n",
              "      <th>model</th>\n",
              "      <th>best_score</th>\n",
              "      <th>best_params</th>\n",
              "    </tr>\n",
              "  </thead>\n",
              "  <tbody>\n",
              "    <tr>\n",
              "      <th>0</th>\n",
              "      <td>svm</td>\n",
              "      <td>0.838333</td>\n",
              "      <td>{'svc__C': 10, 'svc__kernel': 'rbf'}</td>\n",
              "    </tr>\n",
              "    <tr>\n",
              "      <th>1</th>\n",
              "      <td>random_forest</td>\n",
              "      <td>0.828077</td>\n",
              "      <td>{'randomforestclassifier__criterion': 'entropy...</td>\n",
              "    </tr>\n",
              "    <tr>\n",
              "      <th>2</th>\n",
              "      <td>logistic_regression</td>\n",
              "      <td>0.788077</td>\n",
              "      <td>{'logisticregression__C': 0.5, 'logisticregres...</td>\n",
              "    </tr>\n",
              "  </tbody>\n",
              "</table>\n",
              "</div>\n",
              "      <button class=\"colab-df-convert\" onclick=\"convertToInteractive('df-e9af14f6-bf84-444a-b29a-18cc1a2b8194')\"\n",
              "              title=\"Convert this dataframe to an interactive table.\"\n",
              "              style=\"display:none;\">\n",
              "        \n",
              "  <svg xmlns=\"http://www.w3.org/2000/svg\" height=\"24px\"viewBox=\"0 0 24 24\"\n",
              "       width=\"24px\">\n",
              "    <path d=\"M0 0h24v24H0V0z\" fill=\"none\"/>\n",
              "    <path d=\"M18.56 5.44l.94 2.06.94-2.06 2.06-.94-2.06-.94-.94-2.06-.94 2.06-2.06.94zm-11 1L8.5 8.5l.94-2.06 2.06-.94-2.06-.94L8.5 2.5l-.94 2.06-2.06.94zm10 10l.94 2.06.94-2.06 2.06-.94-2.06-.94-.94-2.06-.94 2.06-2.06.94z\"/><path d=\"M17.41 7.96l-1.37-1.37c-.4-.4-.92-.59-1.43-.59-.52 0-1.04.2-1.43.59L10.3 9.45l-7.72 7.72c-.78.78-.78 2.05 0 2.83L4 21.41c.39.39.9.59 1.41.59.51 0 1.02-.2 1.41-.59l7.78-7.78 2.81-2.81c.8-.78.8-2.07 0-2.86zM5.41 20L4 18.59l7.72-7.72 1.47 1.35L5.41 20z\"/>\n",
              "  </svg>\n",
              "      </button>\n",
              "      \n",
              "  <style>\n",
              "    .colab-df-container {\n",
              "      display:flex;\n",
              "      flex-wrap:wrap;\n",
              "      gap: 12px;\n",
              "    }\n",
              "\n",
              "    .colab-df-convert {\n",
              "      background-color: #E8F0FE;\n",
              "      border: none;\n",
              "      border-radius: 50%;\n",
              "      cursor: pointer;\n",
              "      display: none;\n",
              "      fill: #1967D2;\n",
              "      height: 32px;\n",
              "      padding: 0 0 0 0;\n",
              "      width: 32px;\n",
              "    }\n",
              "\n",
              "    .colab-df-convert:hover {\n",
              "      background-color: #E2EBFA;\n",
              "      box-shadow: 0px 1px 2px rgba(60, 64, 67, 0.3), 0px 1px 3px 1px rgba(60, 64, 67, 0.15);\n",
              "      fill: #174EA6;\n",
              "    }\n",
              "\n",
              "    [theme=dark] .colab-df-convert {\n",
              "      background-color: #3B4455;\n",
              "      fill: #D2E3FC;\n",
              "    }\n",
              "\n",
              "    [theme=dark] .colab-df-convert:hover {\n",
              "      background-color: #434B5C;\n",
              "      box-shadow: 0px 1px 3px 1px rgba(0, 0, 0, 0.15);\n",
              "      filter: drop-shadow(0px 1px 2px rgba(0, 0, 0, 0.3));\n",
              "      fill: #FFFFFF;\n",
              "    }\n",
              "  </style>\n",
              "\n",
              "      <script>\n",
              "        const buttonEl =\n",
              "          document.querySelector('#df-e9af14f6-bf84-444a-b29a-18cc1a2b8194 button.colab-df-convert');\n",
              "        buttonEl.style.display =\n",
              "          google.colab.kernel.accessAllowed ? 'block' : 'none';\n",
              "\n",
              "        async function convertToInteractive(key) {\n",
              "          const element = document.querySelector('#df-e9af14f6-bf84-444a-b29a-18cc1a2b8194');\n",
              "          const dataTable =\n",
              "            await google.colab.kernel.invokeFunction('convertToInteractive',\n",
              "                                                     [key], {});\n",
              "          if (!dataTable) return;\n",
              "\n",
              "          const docLinkHtml = 'Like what you see? Visit the ' +\n",
              "            '<a target=\"_blank\" href=https://colab.research.google.com/notebooks/data_table.ipynb>data table notebook</a>'\n",
              "            + ' to learn more about interactive tables.';\n",
              "          element.innerHTML = '';\n",
              "          dataTable['output_type'] = 'display_data';\n",
              "          await google.colab.output.renderOutput(dataTable, element);\n",
              "          const docLink = document.createElement('div');\n",
              "          docLink.innerHTML = docLinkHtml;\n",
              "          element.appendChild(docLink);\n",
              "        }\n",
              "      </script>\n",
              "    </div>\n",
              "  </div>\n",
              "  "
            ]
          },
          "metadata": {},
          "execution_count": 37
        }
      ]
    },
    {
      "cell_type": "code",
      "source": [
        " from sklearn.ensemble import AdaBoostClassifier"
      ],
      "metadata": {
        "id": "MJ5PcvyeOzkK"
      },
      "execution_count": null,
      "outputs": []
    },
    {
      "cell_type": "code",
      "source": [],
      "metadata": {
        "id": "LmWOWPEsO0fp"
      },
      "execution_count": null,
      "outputs": []
    },
    {
      "cell_type": "code",
      "source": [
        " clf1 = AdaBoostClassifier(n_estimators=100, random_state=0)"
      ],
      "metadata": {
        "id": "9SV6mD_jO0j3"
      },
      "execution_count": null,
      "outputs": []
    },
    {
      "cell_type": "code",
      "source": [
        "clf1.fit(X, Y)"
      ],
      "metadata": {
        "colab": {
          "base_uri": "https://localhost:8080/"
        },
        "id": "ON2LejRJO4tN",
        "outputId": "13d4394d-f90a-41ad-cef7-c0353923f912"
      },
      "execution_count": null,
      "outputs": [
        {
          "output_type": "execute_result",
          "data": {
            "text/plain": [
              "AdaBoostClassifier(n_estimators=100, random_state=0)"
            ]
          },
          "metadata": {},
          "execution_count": 58
        }
      ]
    },
    {
      "cell_type": "code",
      "source": [
        "clf1.score(X, Y)"
      ],
      "metadata": {
        "colab": {
          "base_uri": "https://localhost:8080/"
        },
        "id": "JZ3GFF6QO_Rj",
        "outputId": "449123c7-192a-436d-ea17-ef8591819a02"
      },
      "execution_count": null,
      "outputs": [
        {
          "output_type": "execute_result",
          "data": {
            "text/plain": [
              "1.0"
            ]
          },
          "metadata": {},
          "execution_count": 59
        }
      ]
    },
    {
      "cell_type": "code",
      "source": [
        "dm=pd.read_csv('/content/drive/MyDrive/PD/NewMeander.csv')"
      ],
      "metadata": {
        "id": "TNKDpUqIPPSb"
      },
      "execution_count": null,
      "outputs": []
    },
    {
      "cell_type": "code",
      "source": [
        "dm.head(5)"
      ],
      "metadata": {
        "colab": {
          "base_uri": "https://localhost:8080/",
          "height": 374
        },
        "id": "4ezXIBnAPZqD",
        "outputId": "66a6f945-fc1c-4668-a6a1-4c0c4ad2e4a5"
      },
      "execution_count": null,
      "outputs": [
        {
          "output_type": "execute_result",
          "data": {
            "text/plain": [
              "  _ID_EXAM   IMAGE_NAME  ID_PATIENT  CLASS_TYPE GENDER RIGH/LEFT-HANDED  AGE  \\\n",
              "0       H1  mea1-H1.jpg          59           1      M                R   58   \n",
              "1       H2  mea1-H2.jpg          76           1      M                R   60   \n",
              "2       H3  mea1-H3.jpg         301           1      F                R   56   \n",
              "3       H4  mea1-H4.jpg         102           1      M                R   24   \n",
              "4       H5  mea1-H5.jpg         305           1      M                R   79   \n",
              "\n",
              "            RMS  MAX_BETWEEN_ET_HT  MIN_BETWEEN_ET_HT  STD_DEVIATION_ET_HT  \\\n",
              "0   7434.180108       10120.222430        42913.38070             0.071112   \n",
              "1  10132.444470       11923.713750        64317.66969             0.581945   \n",
              "2   5320.969169        8443.270014        39979.95076             0.000388   \n",
              "3   8659.652924       13558.029200        69319.27081             0.008113   \n",
              "4   7293.018199        7531.636413        34595.02260             0.102315   \n",
              "\n",
              "         MRT      MAX_HT    MIN_HT       STD_HT  \\\n",
              "0  48.761320  203.049894  0.119590  2236.376294   \n",
              "1  31.231012  212.489845  0.029351  1658.672664   \n",
              "2  54.281633  227.843584  0.757457  3148.250320   \n",
              "3  52.104352  185.538482  0.220402  2606.647576   \n",
              "4  40.991308  198.680893  0.071312  3193.983137   \n",
              "\n",
              "   CHANGES_FROM_NEGATIVE_TO_POSITIVE_BETWEEN_ET_HT  \n",
              "0                                         0.114428  \n",
              "1                                         0.064394  \n",
              "2                                         0.158879  \n",
              "3                                         0.127358  \n",
              "4                                         0.155660  "
            ],
            "text/html": [
              "\n",
              "  <div id=\"df-b3327067-ed89-45bd-9013-d8dcd4e6f495\">\n",
              "    <div class=\"colab-df-container\">\n",
              "      <div>\n",
              "<style scoped>\n",
              "    .dataframe tbody tr th:only-of-type {\n",
              "        vertical-align: middle;\n",
              "    }\n",
              "\n",
              "    .dataframe tbody tr th {\n",
              "        vertical-align: top;\n",
              "    }\n",
              "\n",
              "    .dataframe thead th {\n",
              "        text-align: right;\n",
              "    }\n",
              "</style>\n",
              "<table border=\"1\" class=\"dataframe\">\n",
              "  <thead>\n",
              "    <tr style=\"text-align: right;\">\n",
              "      <th></th>\n",
              "      <th>_ID_EXAM</th>\n",
              "      <th>IMAGE_NAME</th>\n",
              "      <th>ID_PATIENT</th>\n",
              "      <th>CLASS_TYPE</th>\n",
              "      <th>GENDER</th>\n",
              "      <th>RIGH/LEFT-HANDED</th>\n",
              "      <th>AGE</th>\n",
              "      <th>RMS</th>\n",
              "      <th>MAX_BETWEEN_ET_HT</th>\n",
              "      <th>MIN_BETWEEN_ET_HT</th>\n",
              "      <th>STD_DEVIATION_ET_HT</th>\n",
              "      <th>MRT</th>\n",
              "      <th>MAX_HT</th>\n",
              "      <th>MIN_HT</th>\n",
              "      <th>STD_HT</th>\n",
              "      <th>CHANGES_FROM_NEGATIVE_TO_POSITIVE_BETWEEN_ET_HT</th>\n",
              "    </tr>\n",
              "  </thead>\n",
              "  <tbody>\n",
              "    <tr>\n",
              "      <th>0</th>\n",
              "      <td>H1</td>\n",
              "      <td>mea1-H1.jpg</td>\n",
              "      <td>59</td>\n",
              "      <td>1</td>\n",
              "      <td>M</td>\n",
              "      <td>R</td>\n",
              "      <td>58</td>\n",
              "      <td>7434.180108</td>\n",
              "      <td>10120.222430</td>\n",
              "      <td>42913.38070</td>\n",
              "      <td>0.071112</td>\n",
              "      <td>48.761320</td>\n",
              "      <td>203.049894</td>\n",
              "      <td>0.119590</td>\n",
              "      <td>2236.376294</td>\n",
              "      <td>0.114428</td>\n",
              "    </tr>\n",
              "    <tr>\n",
              "      <th>1</th>\n",
              "      <td>H2</td>\n",
              "      <td>mea1-H2.jpg</td>\n",
              "      <td>76</td>\n",
              "      <td>1</td>\n",
              "      <td>M</td>\n",
              "      <td>R</td>\n",
              "      <td>60</td>\n",
              "      <td>10132.444470</td>\n",
              "      <td>11923.713750</td>\n",
              "      <td>64317.66969</td>\n",
              "      <td>0.581945</td>\n",
              "      <td>31.231012</td>\n",
              "      <td>212.489845</td>\n",
              "      <td>0.029351</td>\n",
              "      <td>1658.672664</td>\n",
              "      <td>0.064394</td>\n",
              "    </tr>\n",
              "    <tr>\n",
              "      <th>2</th>\n",
              "      <td>H3</td>\n",
              "      <td>mea1-H3.jpg</td>\n",
              "      <td>301</td>\n",
              "      <td>1</td>\n",
              "      <td>F</td>\n",
              "      <td>R</td>\n",
              "      <td>56</td>\n",
              "      <td>5320.969169</td>\n",
              "      <td>8443.270014</td>\n",
              "      <td>39979.95076</td>\n",
              "      <td>0.000388</td>\n",
              "      <td>54.281633</td>\n",
              "      <td>227.843584</td>\n",
              "      <td>0.757457</td>\n",
              "      <td>3148.250320</td>\n",
              "      <td>0.158879</td>\n",
              "    </tr>\n",
              "    <tr>\n",
              "      <th>3</th>\n",
              "      <td>H4</td>\n",
              "      <td>mea1-H4.jpg</td>\n",
              "      <td>102</td>\n",
              "      <td>1</td>\n",
              "      <td>M</td>\n",
              "      <td>R</td>\n",
              "      <td>24</td>\n",
              "      <td>8659.652924</td>\n",
              "      <td>13558.029200</td>\n",
              "      <td>69319.27081</td>\n",
              "      <td>0.008113</td>\n",
              "      <td>52.104352</td>\n",
              "      <td>185.538482</td>\n",
              "      <td>0.220402</td>\n",
              "      <td>2606.647576</td>\n",
              "      <td>0.127358</td>\n",
              "    </tr>\n",
              "    <tr>\n",
              "      <th>4</th>\n",
              "      <td>H5</td>\n",
              "      <td>mea1-H5.jpg</td>\n",
              "      <td>305</td>\n",
              "      <td>1</td>\n",
              "      <td>M</td>\n",
              "      <td>R</td>\n",
              "      <td>79</td>\n",
              "      <td>7293.018199</td>\n",
              "      <td>7531.636413</td>\n",
              "      <td>34595.02260</td>\n",
              "      <td>0.102315</td>\n",
              "      <td>40.991308</td>\n",
              "      <td>198.680893</td>\n",
              "      <td>0.071312</td>\n",
              "      <td>3193.983137</td>\n",
              "      <td>0.155660</td>\n",
              "    </tr>\n",
              "  </tbody>\n",
              "</table>\n",
              "</div>\n",
              "      <button class=\"colab-df-convert\" onclick=\"convertToInteractive('df-b3327067-ed89-45bd-9013-d8dcd4e6f495')\"\n",
              "              title=\"Convert this dataframe to an interactive table.\"\n",
              "              style=\"display:none;\">\n",
              "        \n",
              "  <svg xmlns=\"http://www.w3.org/2000/svg\" height=\"24px\"viewBox=\"0 0 24 24\"\n",
              "       width=\"24px\">\n",
              "    <path d=\"M0 0h24v24H0V0z\" fill=\"none\"/>\n",
              "    <path d=\"M18.56 5.44l.94 2.06.94-2.06 2.06-.94-2.06-.94-.94-2.06-.94 2.06-2.06.94zm-11 1L8.5 8.5l.94-2.06 2.06-.94-2.06-.94L8.5 2.5l-.94 2.06-2.06.94zm10 10l.94 2.06.94-2.06 2.06-.94-2.06-.94-.94-2.06-.94 2.06-2.06.94z\"/><path d=\"M17.41 7.96l-1.37-1.37c-.4-.4-.92-.59-1.43-.59-.52 0-1.04.2-1.43.59L10.3 9.45l-7.72 7.72c-.78.78-.78 2.05 0 2.83L4 21.41c.39.39.9.59 1.41.59.51 0 1.02-.2 1.41-.59l7.78-7.78 2.81-2.81c.8-.78.8-2.07 0-2.86zM5.41 20L4 18.59l7.72-7.72 1.47 1.35L5.41 20z\"/>\n",
              "  </svg>\n",
              "      </button>\n",
              "      \n",
              "  <style>\n",
              "    .colab-df-container {\n",
              "      display:flex;\n",
              "      flex-wrap:wrap;\n",
              "      gap: 12px;\n",
              "    }\n",
              "\n",
              "    .colab-df-convert {\n",
              "      background-color: #E8F0FE;\n",
              "      border: none;\n",
              "      border-radius: 50%;\n",
              "      cursor: pointer;\n",
              "      display: none;\n",
              "      fill: #1967D2;\n",
              "      height: 32px;\n",
              "      padding: 0 0 0 0;\n",
              "      width: 32px;\n",
              "    }\n",
              "\n",
              "    .colab-df-convert:hover {\n",
              "      background-color: #E2EBFA;\n",
              "      box-shadow: 0px 1px 2px rgba(60, 64, 67, 0.3), 0px 1px 3px 1px rgba(60, 64, 67, 0.15);\n",
              "      fill: #174EA6;\n",
              "    }\n",
              "\n",
              "    [theme=dark] .colab-df-convert {\n",
              "      background-color: #3B4455;\n",
              "      fill: #D2E3FC;\n",
              "    }\n",
              "\n",
              "    [theme=dark] .colab-df-convert:hover {\n",
              "      background-color: #434B5C;\n",
              "      box-shadow: 0px 1px 3px 1px rgba(0, 0, 0, 0.15);\n",
              "      filter: drop-shadow(0px 1px 2px rgba(0, 0, 0, 0.3));\n",
              "      fill: #FFFFFF;\n",
              "    }\n",
              "  </style>\n",
              "\n",
              "      <script>\n",
              "        const buttonEl =\n",
              "          document.querySelector('#df-b3327067-ed89-45bd-9013-d8dcd4e6f495 button.colab-df-convert');\n",
              "        buttonEl.style.display =\n",
              "          google.colab.kernel.accessAllowed ? 'block' : 'none';\n",
              "\n",
              "        async function convertToInteractive(key) {\n",
              "          const element = document.querySelector('#df-b3327067-ed89-45bd-9013-d8dcd4e6f495');\n",
              "          const dataTable =\n",
              "            await google.colab.kernel.invokeFunction('convertToInteractive',\n",
              "                                                     [key], {});\n",
              "          if (!dataTable) return;\n",
              "\n",
              "          const docLinkHtml = 'Like what you see? Visit the ' +\n",
              "            '<a target=\"_blank\" href=https://colab.research.google.com/notebooks/data_table.ipynb>data table notebook</a>'\n",
              "            + ' to learn more about interactive tables.';\n",
              "          element.innerHTML = '';\n",
              "          dataTable['output_type'] = 'display_data';\n",
              "          await google.colab.output.renderOutput(dataTable, element);\n",
              "          const docLink = document.createElement('div');\n",
              "          docLink.innerHTML = docLinkHtml;\n",
              "          element.appendChild(docLink);\n",
              "        }\n",
              "      </script>\n",
              "    </div>\n",
              "  </div>\n",
              "  "
            ]
          },
          "metadata": {},
          "execution_count": 12
        }
      ]
    },
    {
      "cell_type": "code",
      "source": [
        "Y1=dm['CLASS_TYPE']"
      ],
      "metadata": {
        "id": "DPMIBaW8Pcyc"
      },
      "execution_count": null,
      "outputs": []
    },
    {
      "cell_type": "code",
      "source": [
        "dm.GENDER= le.fit_transform(dm.GENDER.values)"
      ],
      "metadata": {
        "id": "Xy_64fD-Pqjg"
      },
      "execution_count": null,
      "outputs": []
    },
    {
      "cell_type": "code",
      "source": [
        "dm['RIGH/LEFT-HANDED'] = le.fit_transform(dm['RIGH/LEFT-HANDED'].values)"
      ],
      "metadata": {
        "id": "MeH6kZ_TP0bO"
      },
      "execution_count": null,
      "outputs": []
    },
    {
      "cell_type": "code",
      "source": [
        "X1=dm"
      ],
      "metadata": {
        "id": "Qy-AaOQhP8i4"
      },
      "execution_count": null,
      "outputs": []
    },
    {
      "cell_type": "code",
      "source": [
        "X1.drop(columns=['_ID_EXAM','IMAGE_NAME','ID_PATIENT'],inplace=True)"
      ],
      "metadata": {
        "id": "122IkY--QJ2o"
      },
      "execution_count": null,
      "outputs": []
    },
    {
      "cell_type": "code",
      "source": [
        "X1.drop(columns=['CLASS_TYPE'],inplace=True)"
      ],
      "metadata": {
        "id": "L8t1Vy_xQTVn"
      },
      "execution_count": null,
      "outputs": []
    },
    {
      "cell_type": "code",
      "source": [
        "mlc.fit(X1,Y1)\n"
      ],
      "metadata": {
        "colab": {
          "base_uri": "https://localhost:8080/"
        },
        "id": "L58a-ykPQXSw",
        "outputId": "383ccd34-30e0-4544-94a2-6fbba8b511ba"
      },
      "execution_count": null,
      "outputs": [
        {
          "output_type": "execute_result",
          "data": {
            "text/plain": [
              "MLPClassifier(hidden_layer_sizes=(150, 175, 100, 50, 30), max_iter=5000,\n",
              "              random_state=0, solver='lbfgs', verbose=True)"
            ]
          },
          "metadata": {},
          "execution_count": 75
        }
      ]
    },
    {
      "cell_type": "code",
      "source": [
        "train_acc_cla1=mlc.score(X1,Y1)"
      ],
      "metadata": {
        "id": "fSy6rRHGQwil"
      },
      "execution_count": null,
      "outputs": []
    }
  ]
}